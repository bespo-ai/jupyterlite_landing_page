{
 "cells": [
  {
   "cell_type": "code",
   "execution_count": null,
   "id": "9e83fa40",
   "metadata": {},
   "outputs": [],
   "source": [
    "import vincent as v"
   ]
  },
  {
   "cell_type": "code",
   "execution_count": null,
   "id": "1fdb5501",
   "metadata": {},
   "outputs": [],
   "source": [
    "import vincent as v"
   ]
  },
  {
   "cell_type": "code",
   "execution_count": null,
   "id": "d83ff9a9",
   "metadata": {},
   "outputs": [],
   "source": [
    "help(v)"
   ]
  }
 ],
 "metadata": {
  "kernelspec": {
   "display_name": "Python 3.12",
   "language": "python",
   "name": "satyrn-python312"
  },
  "language_info": {
   "codemirror_mode": {
    "name": "ipython",
    "version": 3
   },
   "file_extension": ".py",
   "mimetype": "text/x-python",
   "name": "python",
   "nbconvert_exporter": "python",
   "pygments_lexer": "ipython3",
   "version": "3.12.6"
  }
 },
 "nbformat": 4,
 "nbformat_minor": 5
}
