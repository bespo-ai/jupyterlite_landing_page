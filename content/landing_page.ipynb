{
 "cells": [
  {
   "cell_type": "code",
   "execution_count": 1,
   "metadata": {},
   "outputs": [],
   "source": [
    "%load_ext autoreload\n",
    "%autoreload 2\n"
   ]
  },
  {
   "cell_type": "code",
   "execution_count": 2,
   "metadata": {
    "execution": {
     "iopub.execute_input": "2024-12-23T10:53:03.189522Z",
     "iopub.status.busy": "2024-12-23T10:53:03.187872Z",
     "iopub.status.idle": "2024-12-23T10:53:03.246045Z",
     "shell.execute_reply": "2024-12-23T10:53:03.244469Z",
     "shell.execute_reply.started": "2024-12-23T10:53:03.189477Z"
    }
   },
   "outputs": [
    {
     "name": "stdout",
     "output_type": "stream",
     "text": [
      "Welcome to Vincent's landing page!\n",
      "Vincent can operate a notebook to do multistep tasks for you.\n",
      "Go ahead explore this landing page through your curiosity.\n",
      "\n"
     ]
    }
   ],
   "source": [
    "from vincent import *\n",
    "welcome()"
   ]
  },
  {
   "cell_type": "code",
   "execution_count": 9,
   "metadata": {},
   "outputs": [
    {
     "name": "stdout",
     "output_type": "stream",
     "text": [
      "Vincent in your VSCode:\n",
      "• Alpha version\n",
      "• Extension\n",
      "• Local\n"
     ]
    },
    {
     "data": {
      "text/html": [
       "\n",
       "        <a href=\"https://marketplace.visualstudio.com/items?itemName=BespoAI.vincent&ssr=false#overview\" \n",
       "           target=\"_blank\"\n",
       "           style=\"\n",
       "               display: inline-block;\n",
       "               text-align: center !important;\n",
       "               background-color: #000000;\n",
       "               border: 2px solid #000000;\n",
       "               color: white;\n",
       "               padding: 12px 24px;\n",
       "               text-decoration: none;\n",
       "               font-size: 14px;\n",
       "               font-weight: 500;\n",
       "               margin: 8px 0;\n",
       "               cursor: pointer;\n",
       "               border-radius: 6px;\n",
       "               transition: all 0.2s ease-in-out;\n",
       "           \"\n",
       "           onmouseover=\"this.style.backgroundColor='#ffffff'; this.style.color='#000000';\"\n",
       "           onmouseout=\"this.style.backgroundColor='#000000'; this.style.color='#ffffff';\">\n",
       "           Download\n",
       "        </a>\n",
       "    "
      ],
      "text/plain": [
       "<IPython.core.display.HTML object>"
      ]
     },
     "metadata": {},
     "output_type": "display_data"
    },
    {
     "name": "stdout",
     "output_type": "stream",
     "text": [
      "\n",
      "Vincent in the cloud:\n",
      "• Organizational collaboration and memory\n",
      "• It's own compute resources\n",
      "• Multiple Vincent instances in parallel\n",
      "• Longer tasks\n"
     ]
    },
    {
     "data": {
      "text/html": [
       "\n",
       "        <a href=\"https://example.com/waitlist\" \n",
       "           target=\"_blank\"\n",
       "           style=\"\n",
       "               display: inline-block;\n",
       "               text-align: center !important;\n",
       "               background-color: #000000;\n",
       "               border: 2px solid #000000;\n",
       "               color: white;\n",
       "               padding: 12px 24px;\n",
       "               text-decoration: none;\n",
       "               font-size: 14px;\n",
       "               font-weight: 500;\n",
       "               margin: 8px 0;\n",
       "               cursor: pointer;\n",
       "               border-radius: 6px;\n",
       "               transition: all 0.2s ease-in-out;\n",
       "           \"\n",
       "           onmouseover=\"this.style.backgroundColor='#ffffff'; this.style.color='#000000';\"\n",
       "           onmouseout=\"this.style.backgroundColor='#000000'; this.style.color='#ffffff';\">\n",
       "           Waitlist\n",
       "        </a>\n",
       "    "
      ],
      "text/plain": [
       "<IPython.core.display.HTML object>"
      ]
     },
     "execution_count": 9,
     "metadata": {},
     "output_type": "execute_result"
    }
   ],
   "source": [
    "download()"
   ]
  },
  {
   "cell_type": "code",
   "execution_count": 5,
   "metadata": {},
   "outputs": [
    {
     "name": "stdout",
     "output_type": "stream",
     "text": [
      "Vincent's landing page methods:\n",
      "Method                    Description\n",
      "============================================================\n",
      "what_does_vincent_do()    What Vincent actually does. Technically\n",
      "common_use_cases()        How users are using Vincent\n",
      "download()                Try Vincent today\n",
      "privacy()                 Vincent's privacy and security details\n",
      "manifesto()               Why we're building Vincent, and how it's different\n",
      "feature_importance()      Vincent's standout capabilities\n",
      "loved_by()                How users and developers are leveraging Vincent\n",
      "about()                   About this landing page\n",
      "pricing()                 Pricing details\n"
     ]
    }
   ],
   "source": [
    "vincent_help()"
   ]
  }
 ],
 "metadata": {
  "kernelspec": {
   "display_name": "Python 3.12",
   "language": "python",
   "name": "satyrn-python312"
  },
  "language_info": {
   "codemirror_mode": {
    "name": "ipython",
    "version": 3
   },
   "file_extension": ".py",
   "mimetype": "text/x-python",
   "name": "python",
   "nbconvert_exporter": "python",
   "pygments_lexer": "ipython3",
   "version": "3.12.6"
  }
 },
 "nbformat": 4,
 "nbformat_minor": 4
}
