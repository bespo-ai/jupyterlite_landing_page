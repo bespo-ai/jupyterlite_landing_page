{
 "cells": [
  {
   "cell_type": "code",
   "execution_count": 1,
   "metadata": {},
   "outputs": [],
   "source": [
    "import vincent as v"
   ]
  },
  {
   "cell_type": "code",
   "execution_count": 2,
   "metadata": {},
   "outputs": [
    {
     "data": {
      "text/markdown": [
       "# It’s About Discovery\n",
       "\n",
       "We are data scientists, at heart and by trade, so when computers started talking convincingly, our brains began racing with ideas of how this relates to our craft. Developers got amazing AI tools recently, from assistants that speed up code writing, to “AI software engineers” that can (supposedly) complete tasks autonomously.\n",
       "\n",
       "And while these tools are also helpful for data scientist, they don’t address the core of what data science or research **is**.\n",
       "Data science is not about writing code (albeit necessary), and it’s not about moving tickets from “backlog” to “done”.\n",
       "It’s about discovery.\n",
       "\n",
       "Discovery can sound like fluff, but it’s there. You start at not knowing, and start chipping away until you know enough. Hell, sometimes you start not knowing what it is that you seek to know. This is the workflow we are passionate to enhance. \n",
       "\n",
       "# Enter the Notebook\n",
       "\n",
       "While the critics are still split on notebooks place in the engineering stack, it is undoubtedly built for the things we think are important. Discovery happens from experimenting. You need to poke your finger at some hole and see what comes out the other side. The direct manipulation and rich outputs of notebooks are perfect for that. And they’re also perfect for communicating discoveries to ultimately drive impact.\n",
       "\n",
       "This, together with the fact that notebooks did not get the same AI love that other tools have, meant we had to start there. With the tool we love so dearly.\n",
       "\n",
       "Appropriately, we aim to discover new ways to use this technology for ourselves and our fellow researchers, to make the creative act of research the best it can be.\n",
       "\n",
       "# Principles\n",
       "\n",
       "Here are some principles we discovered, that we use to guide us. At least for now:\n",
       "\n",
       "### Focus on acts that break flow\n",
       "\n",
       "Code errors, dependencies issues, and parsing hell of that annoying JSON column into a more palatable DataFrame. Vincent should help with all of that.\n",
       "\n",
       "### Creativity > Productivity\n",
       "\n",
       "It’s not about smashing tickets, it’s about supporting deep thinking and understanding, to do our best work.\n",
       "\n",
       "### Agentic workspace\n",
       "\n",
       "We want to do more than autocomplete, but not outsourcing entire projects. We call it an \"Agentic Workspace\" (cheesy, but conveys the spirit). Think of it as a collaborative partner — one that suggests next steps, surfaces insights, and automates mundane tasks, while keeping you in control of the creative process. A magical canvas that helps *you* make things happen.\n",
       "\n",
       "### Lean on the power of the notebook\n",
       "\n",
       "Jupyter notebooks are extremely powerful, and a native environment for an AI agent to accomplish things. Vincent can learn about a library, search the web, and export code to python files, all through the notebook it self. This also allows everyone to customize and extend Vincent’s capabilities."
      ],
      "text/plain": [
       "<IPython.core.display.Markdown object>"
      ]
     },
     "execution_count": 2,
     "metadata": {},
     "output_type": "execute_result"
    }
   ],
   "source": [
    "v.manifesto()"
   ]
  },
  {
   "cell_type": "code",
   "execution_count": null,
   "metadata": {},
   "outputs": [],
   "source": []
  }
 ],
 "metadata": {
  "kernelspec": {
   "display_name": "Python 3.12",
   "language": "python",
   "name": "satyrn-python312"
  },
  "language_info": {
   "codemirror_mode": {
    "name": "ipython",
    "version": 3
   },
   "file_extension": ".py",
   "mimetype": "text/x-python",
   "name": "python",
   "nbconvert_exporter": "python",
   "pygments_lexer": "ipython3",
   "version": "3.12.6"
  }
 },
 "nbformat": 4,
 "nbformat_minor": 2
}
