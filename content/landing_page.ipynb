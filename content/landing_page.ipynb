{
 "cells": [
  {
   "cell_type": "code",
   "execution_count": 19,
   "metadata": {},
   "outputs": [
    {
     "name": "stdout",
     "output_type": "stream",
     "text": [
      "Welcome to Vincent's landing page!\n",
      "Vincent can operate a Jupyter notebook to do multistep tasks for you.\n"
     ]
    },
    {
     "data": {
      "text/html": [
       "<div>\n",
       "<style scoped>\n",
       "    .dataframe tbody tr th:only-of-type {\n",
       "        vertical-align: middle;\n",
       "    }\n",
       "\n",
       "    .dataframe tbody tr th {\n",
       "        vertical-align: top;\n",
       "    }\n",
       "\n",
       "    .dataframe thead th {\n",
       "        text-align: right;\n",
       "    }\n",
       "</style>\n",
       "<table border=\"1\" class=\"dataframe\">\n",
       "  <thead>\n",
       "    <tr style=\"text-align: right;\">\n",
       "      <th></th>\n",
       "      <th>Method</th>\n",
       "      <th>Description</th>\n",
       "    </tr>\n",
       "  </thead>\n",
       "  <tbody>\n",
       "    <tr>\n",
       "      <th>0</th>\n",
       "      <td>what_does_vincent_do()</td>\n",
       "      <td>What vincent actually does. Technically</td>\n",
       "    </tr>\n",
       "    <tr>\n",
       "      <th>1</th>\n",
       "      <td>common_use_cases()</td>\n",
       "      <td>How users are using vincent</td>\n",
       "    </tr>\n",
       "    <tr>\n",
       "      <th>2</th>\n",
       "      <td>join_waitlist()</td>\n",
       "      <td>a button to join the waitlist</td>\n",
       "    </tr>\n",
       "    <tr>\n",
       "      <th>3</th>\n",
       "      <td>privacy()</td>\n",
       "      <td>Vincent's privacy and security details</td>\n",
       "    </tr>\n",
       "    <tr>\n",
       "      <th>4</th>\n",
       "      <td>extendable()</td>\n",
       "      <td>How to extend vincent through an opensource fr...</td>\n",
       "    </tr>\n",
       "    <tr>\n",
       "      <th>5</th>\n",
       "      <td>manifesto()</td>\n",
       "      <td>Why we're building vincent</td>\n",
       "    </tr>\n",
       "    <tr>\n",
       "      <th>6</th>\n",
       "      <td>features()</td>\n",
       "      <td>Vincent's standout capabilities</td>\n",
       "    </tr>\n",
       "    <tr>\n",
       "      <th>7</th>\n",
       "      <td>love_by()</td>\n",
       "      <td>How users and developers are leveraging vincent</td>\n",
       "    </tr>\n",
       "    <tr>\n",
       "      <th>8</th>\n",
       "      <td>about()</td>\n",
       "      <td>About this landing page</td>\n",
       "    </tr>\n",
       "    <tr>\n",
       "      <th>9</th>\n",
       "      <td>pricing()</td>\n",
       "      <td>Pricing details</td>\n",
       "    </tr>\n",
       "  </tbody>\n",
       "</table>\n",
       "</div>"
      ],
      "text/plain": [
       "                   Method                                        Description\n",
       "0  what_does_vincent_do()            What vincent actually does. Technically\n",
       "1      common_use_cases()                        How users are using vincent\n",
       "2         join_waitlist()                      a button to join the waitlist\n",
       "3               privacy()             Vincent's privacy and security details\n",
       "4            extendable()  How to extend vincent through an opensource fr...\n",
       "5             manifesto()                         Why we're building vincent\n",
       "6              features()                    Vincent's standout capabilities\n",
       "7               love_by()    How users and developers are leveraging vincent\n",
       "8                 about()                            About this landing page\n",
       "9               pricing()                                    Pricing details"
      ]
     },
     "execution_count": 19,
     "metadata": {},
     "output_type": "execute_result"
    }
   ],
   "source": [
    "from vincent import *\n",
    "welcome()\n",
    "vincent_help()"
   ]
  }
 ],
 "metadata": {
  "kernelspec": {
   "display_name": "Python 3.12",
   "language": "python",
   "name": "satyrn-python312"
  },
  "language_info": {
   "codemirror_mode": {
    "name": "ipython",
    "version": 3
   },
   "file_extension": ".py",
   "mimetype": "text/x-python",
   "name": "python",
   "nbconvert_exporter": "python",
   "pygments_lexer": "ipython3",
   "version": "3.12.6"
  }
 },
 "nbformat": 4,
 "nbformat_minor": 4
}
