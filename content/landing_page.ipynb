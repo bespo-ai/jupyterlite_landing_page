{
 "cells": [
  {
   "cell_type": "code",
   "execution_count": null,
   "id": "82bd65bf",
   "metadata": {
    "deletable": true,
    "editable": true,
    "execution_count": 1,
    "jupyter": {
     "source_hidden": false
    }
   },
   "outputs": [],
   "source": [
    "import vincent as v"
   ]
  },
  {
   "cell_type": "code",
   "execution_count": null,
   "id": "a00898c6",
   "metadata": {
    "deletable": true,
    "editable": true,
    "execution_count": 2,
    "jupyter": {
     "source_hidden": false
    }
   },
   "outputs": [],
   "source": [
    "help(v)"
   ]
  }
 ],
 "metadata": {
  "jupyterlab": {
   "themes": {
    "settings": {
     "@jupyterlab/notebook-extension:tracker": {
      "codeCellConfig": {
       "autoClosingBrackets": true,
       "lineNumbers": true
      }
     },
     "@jupyterlab/shortcuts-extension:shortcuts": {
      "notebook:run-cell": [
       {
        "keys": [
         "Enter"
        ],
        "selector": ".jp-Notebook:focus"
       }
      ]
     }
    },
    "theme": "JupyterLab Night"
   }
  },
  "kernelspec": {
   "display_name": "Python 3 (ipykernel)",
   "language": "python",
   "name": "python3"
  },
  "language_info": {
   "codemirror_mode": {
    "name": "ipython",
    "version": 3
   },
   "file_extension": ".py",
   "mimetype": "text/x-python",
   "name": "python",
   "nbconvert_exporter": "python",
   "pygments_lexer": "ipython3",
   "version": "3.8.10"
  },
  "notify_time": 0,
  "toc": {
   "base_numbering": 1,
   "nav_menu": {},
   "number_sections": true,
   "sideBar": true,
   "skip_h1_title": false,
   "title_cell": "Table of Contents",
   "title_sidebar": "Contents",
   "toc_cell": false,
   "toc_position": {},
   "toc_section_display": true,
   "toc_window_display": false
  },
  "varInspector": {
   "cols": {
    "lenName": 16,
    "lenType": 16,
    "lenVar": 40
   },
   "kernels_config": {
    "julia": {
     "delete_cmd_postfix": "",
     "delete_cmd_prefix": "",
     "library": "var_list.jl",
     "varRefreshCmd": "print(var_dic_list())"
    },
    "python": {
     "delete_cmd_postfix": "",
     "delete_cmd_prefix": "del ",
     "library": "var_list.py",
     "varRefreshCmd": "print(var_dic_list())"
    },
    "r": {
     "delete_cmd_postfix": ") ",
     "delete_cmd_prefix": "rm(",
     "library": "var_list.r",
     "varRefreshCmd": "cat(var_dic_list())"
    }
   }
  },
  "widgets": {}
 },
 "nbformat": 4,
 "nbformat_minor": 5
}
